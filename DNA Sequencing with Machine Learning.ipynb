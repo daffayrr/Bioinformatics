{
 "cells": [
  {
   "attachments": {},
   "cell_type": "markdown",
   "metadata": {},
   "source": [
    "# DNA Sequencing with Machine Learning"
   ]
  },
  {
   "attachments": {},
   "cell_type": "markdown",
   "metadata": {},
   "source": [
    "## Introduction"
   ]
  },
  {
   "attachments": {},
   "cell_type": "markdown",
   "metadata": {},
   "source": [
    "Genom adalah kumpulan lengkap DNA dalam suatu organisme. Semua spesies hidup memiliki genom, tetapi ukurannya sangat berbeda. Genom manusia, misalnya, disusun menjadi 23 kromosom, yang sedikit mirip dengan ensiklopedia yang disusun menjadi 23 jilid. Dan jika Anda menghitung semua karakter (pasangan basa DNA individu), akan ada lebih dari 6 miliar di setiap genom manusia. Jadi ini kompilasi yang sangat besar.\n",
    "\n",
    "Genom manusia memiliki sekitar 6 miliar karakter atau huruf. Jika menurut Anda genom (urutan DNA lengkap) seperti sebuah buku, itu adalah buku tentang 6 miliar huruf \"A\", \"C\", \"G\" dan \"T\". Sekarang, setiap orang memiliki genom yang unik. Namun demikian, para ilmuwan menemukan sebagian besar genom manusia mirip satu sama lain.\n",
    "\n",
    "Sebagai ilmu berbasis data, genomik secara ekstensif menggunakan pembelajaran mesin untuk menangkap ketergantungan dalam data dan menyimpulkan hipotesis biologis baru. Meskipun demikian, kemampuan untuk mengekstrak wawasan baru dari volume data genomik yang meningkat secara eksponensial membutuhkan model pembelajaran mesin yang lebih kuat. Dengan memanfaatkan kumpulan data besar secara efisien, pembelajaran mendalam telah merekonstruksi bidang-bidang seperti visi komputer dan pemrosesan bahasa alami. Ini telah menjadi metode preferensi untuk banyak tugas pemodelan genomik, termasuk memprediksi pengaruh variasi genetik pada mekanisme pengaturan gen seperti penerimaan dan penyambungan DNA.\n",
    "\n",
    "Jadi pada artikel ini, kita akan memahami bagaimana menginterpretasikan struktur DNA dan bagaimana algoritma pembelajaran mesin dapat digunakan untuk membangun model prediksi pada data sekuens DNA."
   ]
  },
  {
   "attachments": {},
   "cell_type": "markdown",
   "metadata": {},
   "source": [
    "## Bagaimana Urutan DNA direpresentasikan ?"
   ]
  },
  {
   "attachments": {},
   "cell_type": "markdown",
   "metadata": {},
   "source": [
    "<img src=\"DoubleHelix.gif\" style=\"display: block;\n",
    "  margin-left: auto;\n",
    "  margin-right: auto;\n",
    "  width: 50%;\" alt=\"DNA dalam diagram Double Helix\">\n",
    "<p style=\"display: block;\n",
    "  margin-left: auto;\n",
    "  margin-right: auto;\n",
    "  width: 50%;\">DNA dalam diagram Double Helix</p>\n",
    "\n",
    "Heliks ganda adalah representasi kimiawi yang benar dari DNA. Tapi DNA itu spesial. Ini adalah nukleotida yang terbuat dari empat jenis basa nitrogen: Adenin (A), Timin (T), Guanin (G), dan Cytosine (C). Kami selalu memanggil mereka A, C, G dan T.\n",
    "\n",
    "Keempat bahan kimia ini terhubung bersama melalui ikatan hidrogen dalam urutan apa pun yang memungkinkan membuat rantai, dan ini menghasilkan satu utas heliks ganda DNA. Dan utas kedua dari heliks ganda menyeimbangkan yang pertama. Jadi jika Anda memiliki A di utas pertama, Anda harus memiliki T di utas kedua.\n",
    "\n",
    "Selanjutnya, C dan G selalu seimbang satu sama lain. Jadi, setelah Anda mengidentifikasi satu utas heliks, Anda selalu dapat mengeja yang lainnya.\n",
    "\n",
    "<img src=\"Sequence.webp\" style=\"display: block;\n",
    "  margin-left: auto;\n",
    "  margin-right: auto;\n",
    "  width: 50%;\">\n",
    "\n",
    "Urutan, atau urutan, dari basa-basa ini, menentukan instruksi biologis apa yang terkandung dalam untaian DNA. \n",
    "Misalnya :\n",
    "* ATCGTT mungkin menginstruksikan untuk mata biru\n",
    "* ATCGCT mungkin menginstruksikan untuk cokelat."
   ]
  },
  {
   "attachments": {},
   "cell_type": "markdown",
   "metadata": {},
   "source": [
    "## Handling data DNA dengan <b>Biopython</b>"
   ]
  },
  {
   "attachments": {},
   "cell_type": "markdown",
   "metadata": {},
   "source": [
    "Berikut adalah contoh singkat cara bekerja dengan urutan DNA dalam format fasta menggunakan Biopython. Objek sequence akan berisi atribut seperti id dan sequence serta panjang sequence yang dapat Anda kerjakan secara langsung.\n",
    "\n",
    "Kami akan menggunakan Bio.SeqIO dari Biopython untuk mem-parsing data urutan DNA (fasta). Ini menyediakan antarmuka seragam sederhana untuk memasukkan dan mengeluarkan berbagai macam format file urutan."
   ]
  },
  {
   "cell_type": "code",
   "execution_count": 1,
   "metadata": {},
   "outputs": [
    {
     "name": "stdout",
     "output_type": "stream",
     "text": [
      "ENST00000435737.5\n",
      "ATGTTTCGCATCACCAACATTGAGTTTCTTCCCGAATACCGACAAAAGGAGTCCAGGGAATTTCTTTCAGTGTCACGGACTGTGCAGCAAGTGATAAACCTGGTTTATACAACATCTGCCTTCTCCAAATTTTATGAGCAGTCTGTTGTTGCAGATGTCAGCAACAACAAAGGCGGCCTCCTTGTCCACTTTTGGATTGTTTTTGTCATGCCACGTGCCAAAGGCCACATCTTCTGTGAAGACTGTGTTGCCGCCATCTTGAAGGACTCCATCCAGACAAGCATCATAAACCGGACCTCTGTGGGGAGCTTGCAGGGACTGGCTGTGGACATGGACTCTGTGGTACTAAATGAAGTCCTGGGGCTGACTCTCATTGTCTGGATTGACTGA\n",
      "390\n",
      "ENST00000419127.5\n",
      "ATGTTTCGCATCACCAACATTGAGTTTCTTCCCGAATACCGACAAAAGGAGTCCAGGGAATTTCTTTCAGTGTCACGGACTGTGCAGCAAGTGATAAACCTGGTTTATACAACATCTGCCTTCTCCAAATTTTATGAGCAGTCTGTTGTTGCAGATGTCAGCAACAACAAAGGCGGCCTCCTTGTCCACTTTTGGATTGTTTTTGTCATGCCACGTGCCAAAGGCCACATCTTCTGTGAAGACTGTGTTGCCGCCATCTTGAAGGACTCCATCCAGACAAGCATCATAAACCGGACCTCTGTGGGGAGCTTGCAGGGACTGGCTGTGGACATGGACTCTGTGGTACTAAATGACAAAGGCTGCTCTCAGTACTTCTATGCAGAGCATCTGTCTCTCCACTACCCGCTGGAGATTTCTGCAGCCTCAGGGAGGCTGATGTGTCACTTCAAGCTGGTGGCCATAGTGGGCTACCTGATTCGTCTCTCAATCAAGTCCATCCAAATCGAAGCCGACAACTGTGTCACTGACTCCCTGACCATTTACGACTCCCTTTTGCCCATCCGGAGCAGCATCTTGTACAGAATTTGTGAACCCACAAGAACATTAATGTCATTTGTTTCTACAAATAATCTCATGTTGGTGACATTTAAGTCTCCTCATATACGGAGGCTCTCAGGAATCCGGGCATATTTTGAGGTCATTCCAGAACAAAAGTGTGAAAACACAGTGTTGGTCAAAGACATCACTGGCTTTGAAGGGAAAATTTCAAGCCCATATTACCCGAGCTACTATCCTCCAAAATGCAAGTGTACCTGGAAATTTCAGACTTCTCTATCAACTCTTGGCATAGCACTGAAATTCTATAACTATTCAATAACCAAGAAGAGTATGAAAGGCTGTGAGCATGGATGGTGGGAAATTAATGAGCACATGTACTGTGGCTCCTACATGGATCATCAGACAATTTTTCGAGTGCCCAGCCCTCTGGTTCACATTCAGCTCCAGTGCAGTTCAAGGCTTTCAGACAAGCCACTTTTGGCAGAATATGGCAGTTACAACATCAGTCAACCCTGCCCTGTTGGATCTTTTAGATGCTCCTCCGGTTTATGTGTCCCTCAGGCCCAGCGTTGTGATGGAGTAAATGACTGCTTTGATGAAAGTGATGAACTGTTTTGCGTGAGCCCTCAACCTGCCTGCAATACCAGCTCCTTCAGGCAGCATGGCCCTCTCATCTGTGATGGCTTCAGGGACTGTGAGAATGGCCGGGATGAGCAAAACTGCACTCAAAGTATTCCATGCAACAACAGAACTTTTAAGTGTGGCAATGATATTTGCTTTAGGAAACAAAATGCAAAATGTGATGGGACAGTGGATTGTCCAGATGGAAGTGATGAAGAAGGCTGCACCTGCAGCAGGAGTTCCTCCGCCCTTCACCGCATCATCGGAGGCACAGACACCCTGGAGGGGGGTTGGCCGTGGCAGGTCAGCCTCCACTTTGTTGGATCTGCCTACTGTGGTGCCTCAGTCATCTCCAGGGAGTGGCTTCTTTCTGCAGCCCACTGTTTTCATGGAAACAGGCTGTCAGATCCCACACCATGGACTGCACACCTCGGGATGTATGTTCAGGGGAATGCCAAGTTTGTCTCCCCGGTGAGAAGAATTGTGGTCCACGAGTACTATAACAGTCAGACTTTTGATTATGATATTGCTTTGCTACAGCTCAGTATTGCCTGGCCTGAGACCCTGAAACAGCTCATTCAGCCAATATGCATTCCTCCCACTGGTCAGAGAGTTCGCAGTGGGGAGAAGTGCTGGGTAACTGGCTGGGGGCGAAGACACGAAGCAGATAATAAAGGCTCCCTCGTTCTGCAGCAAGCGGAGGTAGAGCTCATTGATCAAACGCTCTGTGTTTCCACCTACGGGATCATCACTTCTCGGATGCTCTGTGCAGGCATAATGTCAGGCAAGAGAGATGCCTGCAAAGGAGATTCGGGTGGACCTTTATCTTGTCGAAGAAAAAGTGATGGAAAATGGATTTTGACTGGCATTGTTAGCTGGGGACATGGAAGTGGACGACCAAACTTTCCTGGTGTTTACACAAGGGTGTCAAACTTTGTTCCCTGGATTCATAAATATGTCCCTTCTCTTTTGTAA\n",
      "2154\n"
     ]
    }
   ],
   "source": [
    "from Bio import SeqIO\n",
    "for sequence in SeqIO.parse('dataset/example_dna.fa', \"fasta\"):\n",
    "    print(sequence.id)\n",
    "    print(sequence.seq)\n",
    "    print(len(sequence))"
   ]
  },
  {
   "attachments": {},
   "cell_type": "markdown",
   "metadata": {},
   "source": [
    "Sehingga menghasilkan sequence ID, sequence dan panjang sequence."
   ]
  }
 ],
 "metadata": {
  "kernelspec": {
   "display_name": "Python 3",
   "language": "python",
   "name": "python3"
  },
  "language_info": {
   "codemirror_mode": {
    "name": "ipython",
    "version": 3
   },
   "file_extension": ".py",
   "mimetype": "text/x-python",
   "name": "python",
   "nbconvert_exporter": "python",
   "pygments_lexer": "ipython3",
   "version": "3.8.10"
  },
  "orig_nbformat": 4,
  "vscode": {
   "interpreter": {
    "hash": "50f92a894483b90d37829e622a33871b27f3b5decbf3450e8a1f9570503ac8b0"
   }
  }
 },
 "nbformat": 4,
 "nbformat_minor": 2
}
